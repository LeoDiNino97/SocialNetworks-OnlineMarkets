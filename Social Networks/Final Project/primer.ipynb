{
 "cells": [
  {
   "cell_type": "code",
   "execution_count": 1,
   "metadata": {},
   "outputs": [],
   "source": [
    "import numpy as np \n",
    "import networkx as nx\n",
    "from tqdm import tqdm as tqdm \n",
    "from matplotlib import pyplot as plt"
   ]
  },
  {
   "cell_type": "code",
   "execution_count": 2,
   "metadata": {},
   "outputs": [],
   "source": [
    "from itertools import combinations\n",
    "from joblib import Parallel, delayed"
   ]
  },
  {
   "cell_type": "markdown",
   "metadata": {},
   "source": [
    "To recap what the article says:\n",
    "1. You can make a directed navigable graph  with in-degree=out-degree = sqrt(n log n)\n",
    "2. The construction is easy. For each node i,\n",
    "- you add all the edges (j, i) for the m closest nodes, for m = sqrt(n log n)\n",
    "- you add m=sqrt(n log n) random edges (i, j) [in the paper they don't call this m but I do].\n",
    "Whp. the graph is navigable with length = 2. You can also make this construction deterministic.\n",
    "The construction is based on property (1) in the paper, which is equivalent to navigability.\n",
    "3. There is an almost tight LB. They create a graph with average degree almost sqrt(n), in the Euclidean space, with d > log n.\n",
    "\n",
    "How can we improve? It would be interesting to see whether we can show that relaxing navigability can reduce by a lot the degree. For example, what if there is not a path from *every* source to every destination?\n",
    "1. Then one candidate algorithm is to select k random initial points and then try to find a navigable path.\n",
    "- A candidate construction, would be the one above, with a smaller value of incoming and outgoing edges, e.g., log n. Would then the power of k choices work?\n",
    "2. We could even try this experimentally. Take their LB construction and try the construction with smaller m.\n",
    "3. Another idea is to change the navigation algorithm. What if instead of visiting the closest node you visit the 2 (or higher) closest nodes and you check their nodes and you take the min or the 2 minima?\n",
    "4. What if, when you are stuck, you are allowed to visit a further node? How many times do you have to follow a worse node?\n",
    "Again, these can be tried first with their construction."
   ]
  },
  {
   "cell_type": "code",
   "execution_count": 3,
   "metadata": {},
   "outputs": [],
   "source": [
    "# Defining some utilities (early implementation, will be refactored in a class)\n",
    "\n",
    "def randomEnvironment(n: int,\n",
    "                      d: int):\n",
    "    \n",
    "    return np.random.multivariate_normal(np.zeros(d),\n",
    "                                         np.eye(d),\n",
    "                                         n)\n",
    "\n",
    "def distanceBasedPermutation(x: np.array, \n",
    "                             ord = 2):\n",
    "    \n",
    "    DBP = np.zeros((x.shape[0],x.shape[0]))\n",
    "    for i in range(x.shape[0]):\n",
    "        for j in range(x.shape[0]):\n",
    "            DBP[i,j] = np.linalg.norm(x[i] - x[j], ord)\n",
    "\n",
    "    return np.argsort(DBP, 1)\n",
    "\n",
    "def randomizedConstruction(x: np.array,\n",
    "                           ord = 2,\n",
    "                           m = None,\n",
    "                           scheme = 'paper'):\n",
    "\n",
    "    n = x.shape[0]\n",
    "    A = np.zeros((n,n))\n",
    "\n",
    "    DBP = distanceBasedPermutation(x, ord)\n",
    "    if not m:\n",
    "        m = int(np.floor(np.sqrt(3 * n * np.log(n))))\n",
    "\n",
    "    for i in range(n):\n",
    "\n",
    "        # Deterministic step\n",
    "        A[i, DBP[i, 1:m]] = 1\n",
    "        \n",
    "        # Randomized step\n",
    "        if scheme == 'paper':\n",
    "            S = int(np.ceil(3 * n * np.log(n)/m))\n",
    "        else:\n",
    "            S = m\n",
    "            \n",
    "        R = np.random.choice(np.concatenate([np.arange(0,i), np.arange(i+1,n)]), S)\n",
    "\n",
    "        A[i, R] = 1\n",
    "\n",
    "    return A\n"
   ]
  },
  {
   "cell_type": "markdown",
   "metadata": {},
   "source": [
    "_________"
   ]
  },
  {
   "cell_type": "code",
   "execution_count": 4,
   "metadata": {},
   "outputs": [],
   "source": [
    "# Greedy routing algorithm\n",
    "\n",
    "def greedyRouting(s: int,\n",
    "                  t: int,\n",
    "                  x: np.array,\n",
    "                  A: np.array\n",
    "                  ):\n",
    "    \n",
    "    done = False\n",
    "    j = s\n",
    "\n",
    "    steps = 0\n",
    "\n",
    "    while not done:\n",
    "        \n",
    "        if np.all(A[j] == 0):\n",
    "            done = True\n",
    "\n",
    "        else:\n",
    "            neighs = np.where(A[j,:] == 1)[0]\n",
    "            X_ = np.copy(x[neighs])\n",
    "            h = neighs[np.argmin(np.linalg.norm(X_ - x[t], axis = 1))]\n",
    "\n",
    "            if np.linalg.norm(x[t] - x[h]) < np.linalg.norm(x[t] - x[j]):\n",
    "                j = h\n",
    "                steps += 1\n",
    "                \n",
    "            else:\n",
    "                done = True\n",
    "\n",
    "\n",
    "    return x[j], steps"
   ]
  },
  {
   "cell_type": "code",
   "execution_count": 5,
   "metadata": {},
   "outputs": [
    {
     "name": "stdout",
     "output_type": "stream",
     "text": [
      "True\n",
      "2\n"
     ]
    }
   ],
   "source": [
    "X = randomEnvironment(100, 5)\n",
    "A = randomizedConstruction(X)\n",
    "\n",
    "s = np.random.randint(0,X.shape[0])\n",
    "t = np.random.randint(0,X.shape[0])\n",
    "\n",
    "X1, steps = greedyRouting(s, t, X, A)\n",
    "print(np.all(X1 == X[t]))\n",
    "print(steps)"
   ]
  },
  {
   "cell_type": "markdown",
   "metadata": {},
   "source": [
    "Paper baseline is ok, now let's try to work out something sharper with a sparser graph. "
   ]
  },
  {
   "cell_type": "markdown",
   "metadata": {},
   "source": [
    "________"
   ]
  },
  {
   "cell_type": "markdown",
   "metadata": {},
   "source": [
    "First simulation: \n",
    "+ Slightly modify the paper construction, considering $m$ closest nodes in the deterministic step and $m$ random nodes in the stochadtic one;\n",
    "+ Perform the construction and perform random source-target greedy algorithm\n",
    "+ Do it for all values for $m$ spanning from 1 to $\\sqrt{3n\\log n}$"
   ]
  },
  {
   "cell_type": "code",
   "execution_count": 30,
   "metadata": {},
   "outputs": [],
   "source": [
    "def firstSimo(N = 100,\n",
    "              d = 4,\n",
    "              M = 50,\n",
    "              G = 10,\n",
    "              single = False,\n",
    "              m = None):\n",
    "    \n",
    "    def edge_processing(edge, A):\n",
    "        u = edge[0]\n",
    "        v = edge[1]\n",
    "\n",
    "        D, steps_ = greedyRouting(u, \n",
    "                                  v,\n",
    "                                  X, \n",
    "                                  A)\n",
    "        \n",
    "        if np.any(D != X[v]):\n",
    "            successes[(u,v)] = 0\n",
    "            steps[(u,v)] = np.inf\n",
    "            \n",
    "        else:\n",
    "            successes[(u,v)] = 1\n",
    "            steps[(u,v)] = steps_\n",
    "    \n",
    "    Ms = np.arange(2,np.sqrt(3 * N * np.log(N)), dtype='int32')\n",
    "    STEPS = np.zeros(Ms.shape[0])\n",
    "    STEPS_SD = np.zeros(Ms.shape[0])\n",
    "\n",
    "    SUCC_PROP = np.zeros(Ms.shape[0])\n",
    "    SUCC_STD = np.zeros(Ms.shape[0])\n",
    "    \n",
    "    all_pairs = list(combinations(range(N),2))\n",
    "    all_pairs_ = np.zeros((2,len(all_pairs)), dtype='int32')\n",
    "\n",
    "    for i in range(len(all_pairs)):\n",
    "\n",
    "        all_pairs_[0,i] = all_pairs[i][0]\n",
    "        all_pairs_[1,i] = all_pairs[i][1]\n",
    "    \n",
    "    if not single:\n",
    "\n",
    "        for m in tqdm(Ms):\n",
    "\n",
    "            avg_steps = np.zeros((G,M))\n",
    "            successes_count = np.zeros((G,M))\n",
    "\n",
    "            for j in range(G):\n",
    "\n",
    "                X = randomEnvironment(N, d)\n",
    "\n",
    "                for i in range(M):\n",
    "                    \n",
    "                    successes = {edge:0 for edge in all_pairs}\n",
    "                    steps = {edge:0 for edge in all_pairs}\n",
    "\n",
    "                    A = randomizedConstruction(X, 2, m, 'other')                \n",
    "                    np.apply_along_axis(edge_processing, 0, all_pairs_, A = A)\n",
    "                    \n",
    "                    avg_steps[j,i] = np.mean(list(steps.values()))\n",
    "                    successes_count[j,i] = np.all(np.array(list(successes.values())) == 1)\n",
    "                \n",
    "                STEPS[m - 2] = np.mean(avg_steps)\n",
    "                STEPS_SD[m - 2] = np.std(avg_steps)\n",
    "                \n",
    "                SUCC_PROP[m - 2] = np.mean(successes_count)\n",
    "                SUCC_STD[m - 2] = np.std(successes_count)\n",
    "\n",
    "    else:\n",
    "        \n",
    "        avg_steps = np.zeros((G,M))\n",
    "        successes_count = np.zeros((G,M))\n",
    "\n",
    "        for j in range(G):\n",
    "\n",
    "            X = randomEnvironment(N, d)\n",
    "\n",
    "            for i in range(M):\n",
    "                \n",
    "                successes = {edge:0 for edge in all_pairs}\n",
    "                steps = {edge:0 for edge in all_pairs}\n",
    "\n",
    "                A = randomizedConstruction(X, 2, m, 'other')                \n",
    "                np.apply_along_axis(edge_processing, 0, all_pairs_, A = A)\n",
    "                \n",
    "                avg_steps[j,i] = np.mean(list(steps.values()))\n",
    "                successes_count[j,i] = np.all(np.array(list(successes.values())) == 1)\n",
    "        \n",
    "        return np.mean(successes_count), np.std(successes_count), np.mean(avg_steps)\n",
    "\n",
    "    return SUCC_PROP, SUCC_STD, STEPS"
   ]
  },
  {
   "cell_type": "code",
   "execution_count": null,
   "metadata": {},
   "outputs": [],
   "source": [
    "SP, SP_STD, steps = firstSimo(100, 4, 50, 1)"
   ]
  },
  {
   "cell_type": "code",
   "execution_count": 25,
   "metadata": {},
   "outputs": [
    {
     "data": {
      "image/png": "[encoded data removed]",
      "text/plain": [
       "<Figure size 1000x600 with 1 Axes>"
      ]
     },
     "metadata": {},
     "output_type": "display_data"
    }
   ],
   "source": [
    "N = X.shape[0] \n",
    "ticks = np.arange(2,np.sqrt(3 * N * np.log(N)), dtype='int32')\n",
    "\n",
    "plt.figure(figsize=(10, 6))\n",
    "\n",
    "plt.plot(ticks, SP, label='Probability of navigability', marker='o', color='b')\n",
    "plt.plot(ticks, steps, label='Average steps', marker='o', color='gold')\n",
    "\n",
    "plt.vlines(np.floor(np.sqrt(N * np.log(N))), 0, 1.25, linestyles=\"dashdot\", label = '$\\sqrt{N \\logN}$')\n",
    "plt.hlines(1, 0, 37, linestyles=\"dashdot\", colors='red')\n",
    "plt.title('Probability of navigability for m ranging from 2 to $\\sqrt{3N\\logN}$ ($N = 100$)')\n",
    "plt.xlabel('m')\n",
    "plt.xticks(ticks)\n",
    "plt.ylabel('probability of navigability')\n",
    "plt.legend()\n",
    "plt.show()"
   ]
  },
  {
   "cell_type": "code",
   "execution_count": null,
   "metadata": {},
   "outputs": [],
   "source": [
    "m = int(np.log(1000))\n",
    "firstSimo(1000, 4, 50, 10, single = True, m = m)"
   ]
  },
  {
   "cell_type": "markdown",
   "metadata": {},
   "source": [
    "___________________"
   ]
  },
  {
   "cell_type": "markdown",
   "metadata": {},
   "source": [
    "### Aris proposed routing"
   ]
  },
  {
   "cell_type": "code",
   "execution_count": 121,
   "metadata": {},
   "outputs": [],
   "source": [
    "def secondDegreedy(s: int,\n",
    "                   t: int,\n",
    "                   x: np.array,\n",
    "                   A: np.array\n",
    "                   ):\n",
    "        \n",
    "    done = False\n",
    "    j = s\n",
    "\n",
    "    steps = 0\n",
    "\n",
    "    while not done:\n",
    "        \n",
    "        if np.all(A[j] == 0):\n",
    "            done = True\n",
    "\n",
    "        else:\n",
    "            neighs = np.where(A[j,:] == 1)[0]\n",
    "            X_ = np.copy(x[neighs])\n",
    "            hs = neighs[np.argsort(np.linalg.norm(X_ - x[t], axis = 1))[0:2]]\n",
    "            \n",
    "            if t in hs:\n",
    "                j = t\n",
    "                steps += 1\n",
    "                done = True\n",
    "                break\n",
    "\n",
    "            neighs = np.row_stack(np.where(A[hs,:] == 1))\n",
    "\n",
    "            X_ = np.copy(x[neighs[1,:]])\n",
    "            neighs = np.row_stack([neighs, np.linalg.norm(X_ - x[t], axis = 1)])\n",
    "\n",
    "            h = int(hs[int(neighs[0,np.argmin(neighs[2,:])])])\n",
    "\n",
    "            if np.linalg.norm(x[t] - x[h]) < np.linalg.norm(x[t] - x[j]):\n",
    "                j = h\n",
    "                steps += 1\n",
    "\n",
    "            else:\n",
    "                done = True\n",
    "\n",
    "\n",
    "    return x[j], steps"
   ]
  },
  {
   "cell_type": "code",
   "execution_count": 85,
   "metadata": {},
   "outputs": [],
   "source": [
    "X = randomEnvironment(100, 5)"
   ]
  },
  {
   "cell_type": "code",
   "execution_count": 122,
   "metadata": {},
   "outputs": [
    {
     "name": "stdout",
     "output_type": "stream",
     "text": [
      "True\n",
      "1\n"
     ]
    }
   ],
   "source": [
    "A = randomizedConstruction(X)\n",
    "\n",
    "s = np.random.randint(0,X.shape[0])\n",
    "t = np.random.randint(0,X.shape[0])\n",
    "\n",
    "X1, steps = secondDegreedy(s, t, X, A)\n",
    "print(np.all(X1 == X[t]))\n",
    "print(steps)"
   ]
  },
  {
   "cell_type": "markdown",
   "metadata": {},
   "source": [
    "### Aris proposed graph building"
   ]
  },
  {
   "cell_type": "code",
   "execution_count": 123,
   "metadata": {},
   "outputs": [],
   "source": [
    "def randomizedPKConstruction(x: np.array,\n",
    "                            ord = 2,\n",
    "                            k = 10,\n",
    "                            m = None,\n",
    "                            scheme = 'paper'):\n",
    "\n",
    "    n = x.shape[0]\n",
    "    A = np.zeros((n,n))\n",
    "\n",
    "    DBP = distanceBasedPermutation(x, ord)\n",
    "    if not m:\n",
    "        m = int(np.floor(np.sqrt(3 * n * np.log(n))))\n",
    "\n",
    "    for i in range(n):\n",
    "\n",
    "        # Deterministic step\n",
    "        A[i, DBP[i, 1:m]] = 1\n",
    "        \n",
    "        # Randomized step\n",
    "        if scheme == 'paper':\n",
    "            S = int(np.ceil(3 * n * np.log(n)/m))\n",
    "        else:\n",
    "            S = m\n",
    "        \n",
    "        for i in range(S):\n",
    "            \n",
    "            # Power of k construction\n",
    "            R = np.random.choice(np.concatenate([np.arange(0,i), np.arange(i+1,n)]), k)\n",
    "\n",
    "            in_degrees = np.sum(A, axis = 0)[R]\n",
    "\n",
    "            A[i, R[np.argmin(in_degrees)]] = 1\n",
    "\n",
    "    return A\n"
   ]
  },
  {
   "cell_type": "code",
   "execution_count": 132,
   "metadata": {},
   "outputs": [
    {
     "name": "stdout",
     "output_type": "stream",
     "text": [
      "True\n",
      "1\n"
     ]
    }
   ],
   "source": [
    "A = randomizedPKConstruction(X)\n",
    "\n",
    "s = np.random.randint(0,X.shape[0])\n",
    "t = np.random.randint(0,X.shape[0])\n",
    "\n",
    "X1, steps = secondDegreedy(s, t, X, A)\n",
    "print(np.all(X1 == X[t]))\n",
    "print(steps)"
   ]
  }
 ],
 "metadata": {
  "kernelspec": {
   "display_name": "Python 3",
   "language": "python",
   "name": "python3"
  },
  "language_info": {
   "codemirror_mode": {
    "name": "ipython",
    "version": 3
   },
   "file_extension": ".py",
   "mimetype": "text/x-python",
   "name": "python",
   "nbconvert_exporter": "python",
   "pygments_lexer": "ipython3",
   "version": "3.10.7"
  }
 },
 "nbformat": 4,
 "nbformat_minor": 2
}
