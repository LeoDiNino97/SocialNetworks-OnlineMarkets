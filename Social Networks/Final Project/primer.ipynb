{
 "cells": [
  {
   "cell_type": "code",
   "execution_count": 1,
   "metadata": {},
   "outputs": [],
   "source": [
    "import numpy as np \n",
    "import networkx as nx\n",
    "from matplotlib import pyplot as plt"
   ]
  },
  {
   "cell_type": "code",
   "execution_count": 2,
   "metadata": {},
   "outputs": [],
   "source": [
    "# Defining some utilities (early implementation, will be refactored in a class)\n",
    "\n",
    "def randomEnvironment(n: int,\n",
    "                      d: int):\n",
    "    \n",
    "    return np.random.multivariate_normal(np.zeros(d),\n",
    "                                         np.eye(d),\n",
    "                                         n)\n",
    "\n",
    "def distanceBasedPermutation(x: np.array, \n",
    "                             ord = 2):\n",
    "    \n",
    "    DBP = np.zeros((x.shape[0],x.shape[0]))\n",
    "    for i in range(x.shape[0]):\n",
    "        for j in range(x.shape[0]):\n",
    "            DBP[i,j] = np.linalg.norm(x[i] - x[j], ord)\n",
    "\n",
    "    return np.argsort(DBP, 1)\n",
    "\n",
    "def randomizedConstruction(x: np.array,\n",
    "                           ord = 2):\n",
    "\n",
    "    n = x.shape[0]\n",
    "    A = np.zeros((n,n))\n",
    "\n",
    "    DBP = distanceBasedPermutation(x, ord)\n",
    "    m = int(np.floor(np.sqrt(n * np.log(n))))\n",
    "\n",
    "    for i in range(n):\n",
    "\n",
    "        # Deterministic step\n",
    "        A[i, DBP[i, 1:m]] = 1\n",
    "        A[DBP[i,1:m], i]\n",
    "        # Randomized step\n",
    "        S = int(np.ceil(3 * np.sqrt(n * np.log(n))))\n",
    "        R = np.random.choice(np.concatenate([np.arange(0,i), np.arange(i+1,n)]), S)\n",
    "\n",
    "        A[i, R] = 1\n",
    "        A[R, i] = 1\n",
    "\n",
    "    return A"
   ]
  },
  {
   "cell_type": "code",
   "execution_count": 3,
   "metadata": {},
   "outputs": [],
   "source": [
    "X = randomEnvironment(100, 5)"
   ]
  },
  {
   "cell_type": "code",
   "execution_count": 4,
   "metadata": {},
   "outputs": [
    {
     "data": {
      "text/plain": [
       "array([[0., 0., 0., ..., 0., 1., 1.],\n",
       "       [0., 0., 0., ..., 1., 1., 1.],\n",
       "       [0., 0., 0., ..., 1., 1., 1.],\n",
       "       ...,\n",
       "       [0., 1., 1., ..., 0., 1., 0.],\n",
       "       [1., 1., 1., ..., 1., 0., 1.],\n",
       "       [1., 1., 1., ..., 1., 1., 0.]])"
      ]
     },
     "execution_count": 4,
     "metadata": {},
     "output_type": "execute_result"
    }
   ],
   "source": [
    "randomizedConstruction(X)"
   ]
  },
  {
   "cell_type": "code",
   "execution_count": 5,
   "metadata": {},
   "outputs": [],
   "source": [
    "A = randomizedConstruction(X)\n",
    "G = nx.from_numpy_matrix(A)"
   ]
  },
  {
   "cell_type": "code",
   "execution_count": 6,
   "metadata": {},
   "outputs": [
    {
     "data": {
      "text/plain": [
       "True"
      ]
     },
     "execution_count": 6,
     "metadata": {},
     "output_type": "execute_result"
    }
   ],
   "source": [
    "nx.is_connected(G)"
   ]
  },
  {
   "cell_type": "markdown",
   "metadata": {},
   "source": [
    "_________"
   ]
  },
  {
   "cell_type": "code",
   "execution_count": 7,
   "metadata": {},
   "outputs": [],
   "source": [
    "# Greedy routing algorithm\n",
    "\n",
    "def greedyRouting(s: int,\n",
    "                  t: int,\n",
    "                  x: np.array,\n",
    "                  ):\n",
    "    \n",
    "    A = randomizedConstruction(x)\n",
    "\n",
    "    done = False\n",
    "    j = s\n",
    "\n",
    "    steps = 0\n",
    "\n",
    "    while not done:\n",
    "        \n",
    "        if np.all(A[j] == 0):\n",
    "            done = True\n",
    "            print(j)\n",
    "\n",
    "        else:\n",
    "            neighs = np.where(A[j] == 1)[0]\n",
    "            X_ = np.copy(x[neighs])\n",
    "            h = neighs[np.argmin(np.linalg.norm(X_ - x[t], axis = 1))]\n",
    "\n",
    "            if np.linalg.norm(x[t] - x[h]) < np.linalg.norm(x[t] - x[j]):\n",
    "                j = h\n",
    "                steps += 1\n",
    "                \n",
    "            else:\n",
    "                done = True\n",
    "\n",
    "\n",
    "    return x[j], A, steps"
   ]
  },
  {
   "cell_type": "code",
   "execution_count": 8,
   "metadata": {},
   "outputs": [],
   "source": [
    "X = randomEnvironment(1000, 5)\n",
    "\n",
    "X1, B, steps = greedyRouting(0, 50, X)"
   ]
  },
  {
   "cell_type": "code",
   "execution_count": 9,
   "metadata": {},
   "outputs": [
    {
     "data": {
      "text/plain": [
       "True"
      ]
     },
     "execution_count": 9,
     "metadata": {},
     "output_type": "execute_result"
    }
   ],
   "source": [
    "np.all(X1 == X[50])"
   ]
  },
  {
   "cell_type": "code",
   "execution_count": 11,
   "metadata": {},
   "outputs": [
    {
     "data": {
      "text/plain": [
       "True"
      ]
     },
     "execution_count": 11,
     "metadata": {},
     "output_type": "execute_result"
    }
   ],
   "source": [
    "steps <= 2"
   ]
  }
 ],
 "metadata": {
  "kernelspec": {
   "display_name": "Python 3",
   "language": "python",
   "name": "python3"
  },
  "language_info": {
   "codemirror_mode": {
    "name": "ipython",
    "version": 3
   },
   "file_extension": ".py",
   "mimetype": "text/x-python",
   "name": "python",
   "nbconvert_exporter": "python",
   "pygments_lexer": "ipython3",
   "version": "3.10.7"
  }
 },
 "nbformat": 4,
 "nbformat_minor": 2
}
