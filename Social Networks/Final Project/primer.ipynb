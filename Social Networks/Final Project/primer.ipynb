{
 "cells": [
  {
   "cell_type": "code",
   "execution_count": 1,
   "metadata": {},
   "outputs": [],
   "source": [
    "import utils"
   ]
  },
  {
   "cell_type": "markdown",
   "metadata": {},
   "source": [
    "### Class testing"
   ]
  },
  {
   "cell_type": "code",
   "execution_count": 13,
   "metadata": {},
   "outputs": [],
   "source": [
    "tree = utils.HCBinaryTree(int(1e6),3)"
   ]
  },
  {
   "cell_type": "code",
   "execution_count": 20,
   "metadata": {},
   "outputs": [
    {
     "data": {
      "text/plain": [
       "[<utils.Node at 0x25ca7a14cd0>,\n",
       " <utils.Node at 0x25cbf4774f0>,\n",
       " <utils.Node at 0x25cbf477550>,\n",
       " <utils.Node at 0x25cbf4775b0>,\n",
       " <utils.Node at 0x25cc13b1630>,\n",
       " <utils.Node at 0x25cc13b1690>,\n",
       " <utils.Node at 0x25cc13b16f0>,\n",
       " <utils.Node at 0x25cc17962f0>,\n",
       " <utils.Node at 0x25cc1796350>,\n",
       " <utils.Node at 0x25cc17963b0>,\n",
       " <utils.Node at 0x25cc1812530>,\n",
       " <utils.Node at 0x25cc184e5f0>,\n",
       " <utils.Node at 0x25cc1878670>,\n",
       " <utils.Node at 0x25cc187b670>,\n",
       " <utils.Node at 0x25cc188ceb0>,\n",
       " <utils.Node at 0x25cc188cf10>,\n",
       " <utils.Node at 0x25cc188cf70>,\n",
       " <utils.Node at 0x25cc188cfd0>,\n",
       " <utils.Node at 0x25cc188d030>,\n",
       " <utils.Node at 0x25cc188d090>]"
      ]
     },
     "execution_count": 20,
     "metadata": {},
     "output_type": "execute_result"
    }
   ],
   "source": [
    "tree.traversal(600000)"
   ]
  }
 ],
 "metadata": {
  "kernelspec": {
   "display_name": "Python 3",
   "language": "python",
   "name": "python3"
  },
  "language_info": {
   "codemirror_mode": {
    "name": "ipython",
    "version": 3
   },
   "file_extension": ".py",
   "mimetype": "text/x-python",
   "name": "python",
   "nbconvert_exporter": "python",
   "pygments_lexer": "ipython3",
   "version": "3.10.7"
  }
 },
 "nbformat": 4,
 "nbformat_minor": 2
}
