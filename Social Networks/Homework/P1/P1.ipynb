{
 "cells": [
  {
   "cell_type": "markdown",
   "metadata": {},
   "source": [
    "# Problem 1"
   ]
  },
  {
   "cell_type": "markdown",
   "metadata": {},
   "source": [
    "### Barabasi-Albert model with constant linear term in the attachment probability"
   ]
  },
  {
   "cell_type": "markdown",
   "metadata": {},
   "source": [
    "We consider the Barabasi-Albert preferential attachment model with a slight difference in the probability of attachment for a new node coming at time $t$ to node $v$: it will be proportional to \n",
    "\n",
    "$$ \\frac{d_v + C}{(t-1)(2L + C)} $$\n",
    "\n",
    "where $ C \\geq -L $ and $L$ is the fixed number of edges that a node has when it arrives: for $C = 0$ we are back in the usual setting. This adjustment allows us to model more expressively real networks, since in the end we should find a functional form for the degree distribution proportional to $k ^{-(3+\\frac{C}{L})}$."
   ]
  },
  {
   "cell_type": "markdown",
   "metadata": {},
   "source": [
    "To show this, we proceed like we did in the vanilla Barabasi-Albert model, approximating the probability for a node of degree $k$ to increase its degree by one at time $t$ with \n",
    "\n",
    "$$ \\frac{L(k+C)}{t(2L + C)} $$\n",
    "\n",
    "the underlying assumption in this approximation is that it is unlikely for a node to get more than one edge, which is true with high probability in regime. "
   ]
  },
  {
   "cell_type": "markdown",
   "metadata": {},
   "source": [
    "Given this we can compute the number of nodes whose degree is $k$ as we did in the rate equation approach we used to determine the degree distribution of Barabasi-Albert model. \n",
    "\n",
    "So we have: \n",
    "\n",
    "$$\n",
    "n_k(t +1) = \\begin{cases}\n",
    "    0 & \\text{if } & k < L \\\\ \n",
    "    n_k(t)[1-\\frac{L(k+C)}{t(2L+C)}] + 1 & \\text{if} & k = L \\\\\n",
    "    n_k(t)[1-\\frac{L(k+C)}{t(2L+C)}] + n_{k-1}(t)\\frac{L(k-1+C)}{t(2L+C)}& \\text{if} & k > L\n",
    "\\end{cases}\n",
    "$$"
   ]
  },
  {
   "cell_type": "markdown",
   "metadata": {},
   "source": [
    "Some comments on this: \n",
    "+ There are no node whose degree is less than $L$ by design;\n",
    "+ The approximate probability of increasing the degree by one gives us on average the proportion of nodes that increases their degree in the subsequent timestamp;\n",
    "+ This means that the population of nodes $n_k(t)$ is decreased proportionally to $\\frac{L(k+C)}{t(2L + C)}$, because it is the ratio of nodes whose degree becomes $k+1$, but also increased proportionally to $\\frac{L(k-1+C)}{t(2L + C)}$, being the ratio of nodes whose degree jumps from $k-1$ to $k$."
   ]
  },
  {
   "cell_type": "markdown",
   "metadata": {},
   "source": [
    "In terms of probabilities $p_k(t) = \\frac{n_k(t)}{t}$ we can rewrite the previous as: \n",
    "\n",
    "$$\n",
    "(t+1)p_k(t+1) = \\begin{cases}\n",
    "    0 & \\text{if } & k < L \\\\ \n",
    "    tp_k(t)[1-\\frac{L(k+C)}{t(2L+C)}] + 1 & \\text{if} & k = L \\\\\n",
    "    tp_k(t)[1-\\frac{L(k+C)}{t(2L+C)}] + tp_{k-1}(t)\\frac{L(k-1+C)}{t(2L+C)}& \\text{if} & k > L\n",
    "\\end{cases}\n",
    "$$"
   ]
  },
  {
   "cell_type": "markdown",
   "metadata": {},
   "source": [
    "We are looking for stationary distributions, so we drop the time dependencies. \n",
    "\n",
    "For $k > L$ we have:\n",
    "\n",
    "$$ \\cancel{tp_k} + p_k = \\cancel{tp_k}  - \\cancel{t}p_k\\frac{L(k+C)}{\\cancel{t}(2L+C)} + \\cancel{t}p_{k-1}\\frac{L(k-1+C)}{\\cancel{t}(2L+C)} $$\n",
    "$$ p_k[1 + \\frac{L(k+C)}{2L+C}] = p_{k-1}\\frac{L(k-1+C)}{2L+C} $$\n",
    "$$ p_k\\frac{2L + C + Lk+ LC}{\\cancel{2L+C}} = p_{k-1}\\frac{Lk-L+LC}{\\cancel{2L+C}} $$\n",
    "$$ p_k = p_{k-1}\\frac{Lk-L+LC}{2L + C + Lk+ LC} $$\n",
    "$$ p_k = p_{k-1}\\frac{\\cancel{L}(k-1+C)}{\\cancel{L}(2 + \\frac{C}{L} + k+ C)} $$\n",
    "\n",
    "with a change of variable:\n",
    "\n",
    "$$ p_{k+1} = p_k\\frac{k+C}{k + 3 + C + \\frac{C}{L}} $$"
   ]
  },
  {
   "cell_type": "markdown",
   "metadata": {},
   "source": [
    "For $k = L$ we have:\n",
    "$$ \\cancel{tp_k} + p_k = \\cancel{tp_k}  - \\cancel{t}p_k\\frac{L(k+C)}{\\cancel{t}(2L+C)} + 1 $$\n",
    "$$ p_k[1 + \\frac{L(k+C)}{2L+C}] = 1 $$\n",
    "$$ p_k\\frac{2L + C + Lk+ LC}{2L+C} = 1 $$\n",
    "$$ p_k = \\frac{2L + C + Lk+ LC}{2L+C} $$ \n",
    "\n",
    "substituting $k = L$:\n",
    "\n",
    "$$ p_L = \\frac{2L+C}{2L + C + L^2+ LC} = \\frac{\\cancel{L}(2+\\frac{C}{L})}{\\cancel{L}(2 + \\frac{C}{L} + L+ C)}$$ \n"
   ]
  },
  {
   "cell_type": "markdown",
   "metadata": {},
   "source": [
    "Now we have the following: \n",
    "$$\n",
    "\\begin{cases}\n",
    "    p(L) = \\frac{2+\\frac{C}{L}}{2 + \\frac{C}{L} + L+ C} \\\\ \n",
    "    p(k+1) = p(k)\\frac{k+C}{k + 3 + C + \\frac{C}{L}} \n",
    "\\end{cases}\n",
    "$$\n",
    "\n",
    "In this case is way harder to derive recursively a closed form, so we try through a continuous approximation. \n",
    "Let's manipulate the finite difference equation, to see which ODE it approximates:\n",
    "\n",
    "$$ p(k+1) = p(k)\\frac{k+C}{k + 3 + C + \\frac{C}{L}} $$\n",
    "$$ (k + 3 + C + \\frac{C}{L})p(k+1) = (k+C)p(k) $$\n",
    "$$ (k + C)p(k+1) + (3 + \\frac{C}{L})p(k+1) = (k+C)p(k) $$\n",
    "$$ (k + C)[p(k+1) - p(k)] = - (3 + \\frac{C}{L})p(k+1) $$\n",
    "$$ (k - 1 + C)[p(k) - p(k-1)] = - (3 + \\frac{C}{L})p(k) $$\n",
    "$$ (k - 1 + C)\\frac{\\partial p(k)}{\\partial k} \\approx - (3 + \\frac{C}{L})p(k) $$\n",
    "\n",
    "Now let's properly separate the variables and then integrate with respect to the countour condition:\n",
    "\n",
    "$$ \\frac{\\partial p(k)}{p(k)} = - (3 + \\frac{C}{L})\\frac{\\partial k}{k -1 + C} $$\n",
    "$$ \\int_{p(L)}^{p(k)} \\frac{\\partial p(u)}{p(u)} = - \\int_{L}^{k}(3 + \\frac{C}{L})\\frac{\\partial v}{v -1 + C} $$\n",
    "$$ \\log{p(k)} - \\log{p(L)} = -(3 + \\frac{C}{L}) \\log{\\frac{k-1+C}{L-1+C}} $$\n",
    "$$ \\log{p(k)} = \\log{p(L)} + \\log[{(\\frac{k-1+C}{L-1+C})^{-(3 + \\frac{C}{L})}}] $$\n",
    "$$ \\log{p(k)} = \\log[\\log{p(L)}{(\\frac{k-1+C}{L-1+C})^{-(3 + \\frac{C}{L})}}] $$\n",
    "\n",
    "Finally:\n",
    "\n",
    "$$ p(k) = \\log{p(L)}{(\\frac{k-1+C}{L-1+C})^{-(3 + \\frac{C}{L})}} $$\n",
    "\n",
    "where we can see that $p(k) \\propto k^{-(3+\\frac{C}{L})}$.\n"
   ]
  }
 ],
 "metadata": {
  "language_info": {
   "name": "python"
  }
 },
 "nbformat": 4,
 "nbformat_minor": 2
}
