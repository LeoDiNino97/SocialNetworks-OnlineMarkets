{
 "cells": [
  {
   "cell_type": "markdown",
   "metadata": {},
   "source": [
    "# Problem 2"
   ]
  },
  {
   "cell_type": "code",
   "execution_count": 1,
   "metadata": {},
   "outputs": [],
   "source": [
    "import numpy as np\n",
    "import networkx as nx \n",
    "\n",
    "from itertools import combinations\n",
    "from tqdm import tqdm"
   ]
  },
  {
   "cell_type": "markdown",
   "metadata": {},
   "source": [
    "### (1) Find the densest subgraph using the Charikar greedy algorithm"
   ]
  },
  {
   "cell_type": "code",
   "execution_count": 2,
   "metadata": {},
   "outputs": [],
   "source": [
    "nodes = list(range(1,11))\n",
    "\n",
    "edges = [\n",
    "    (1,2),\n",
    "    (1,3),\n",
    "    (1,4),\n",
    "    (1,7),\n",
    "    (2,3),\n",
    "    (2,4),\n",
    "    (2,5),\n",
    "    (3,4),\n",
    "    (3,7),\n",
    "    (4,5),\n",
    "    (5,6),\n",
    "    (5,9),\n",
    "    (6,8),\n",
    "    (6,9),\n",
    "    (6,10),\n",
    "    (7,8),\n",
    "    (7,10),\n",
    "    (8,9),\n",
    "    (8,10),\n",
    "    (9,10)\n",
    "]"
   ]
  },
  {
   "cell_type": "code",
   "execution_count": 3,
   "metadata": {},
   "outputs": [],
   "source": [
    "# Adjacency matrix\n",
    "\n",
    "A = np.zeros((10,10))\n",
    "\n",
    "for e in edges:\n",
    "    A[e[0] - 1, e[1] - 1] = 1\n",
    "    A[e[1] - 1, e[0] - 1] = 1\n",
    "\n",
    "# Degree matrix\n",
    "\n",
    "D = np.diag(np.sum(A, axis = 0))\n",
    "\n",
    "# Laplacian matrix\n",
    "\n",
    "L = D - A\n",
    "\n",
    "# Adjacency lists\n",
    "\n",
    "adj_lists = {v:[] for v in nodes}\n",
    "\n",
    "for e in edges:\n",
    "    adj_lists[e[0]].append(e[1])\n",
    "    adj_lists[e[1]].append(e[0])"
   ]
  },
  {
   "cell_type": "code",
   "execution_count": 4,
   "metadata": {},
   "outputs": [
    {
     "data": {
      "text/plain": [
       "{1: [2, 3, 4, 7],\n",
       " 2: [1, 3, 4, 5],\n",
       " 3: [1, 2, 4, 7],\n",
       " 4: [1, 2, 3, 5],\n",
       " 5: [2, 4, 6, 9],\n",
       " 6: [5, 8, 9, 10],\n",
       " 7: [1, 3, 8, 10],\n",
       " 8: [6, 7, 9, 10],\n",
       " 9: [5, 6, 8, 10],\n",
       " 10: [6, 7, 8, 9]}"
      ]
     },
     "execution_count": 4,
     "metadata": {},
     "output_type": "execute_result"
    }
   ],
   "source": [
    "adj_lists"
   ]
  },
  {
   "cell_type": "code",
   "execution_count": 5,
   "metadata": {},
   "outputs": [],
   "source": [
    "def Greedy_Densest_Subgraph(\n",
    "        adj_lists:dict\n",
    "        ) -> list:\n",
    "    \n",
    "    S = list(adj_lists.keys())\n",
    "\n",
    "    S_G = list(adj_lists.keys())\n",
    "\n",
    "    f_SG = 0.5*sum(map(lambda x: len(adj_lists[x]), adj_lists))/len(S)\n",
    "\n",
    "    print(f_SG)\n",
    "    \n",
    "    while len(S) > 1:\n",
    "\n",
    "        v = min(adj_lists, key = lambda k: len(adj_lists[k]))\n",
    "\n",
    "        S.remove(v)\n",
    "\n",
    "        adj_lists = {u : [node for node in adj_lists[u] if node != v] for u in list(adj_lists.keys()) if u != v}\n",
    "\n",
    "        print(adj_lists)\n",
    "        \n",
    "        f_S = 0.5*sum(map(lambda x: len(adj_lists[x]), adj_lists))/len(S)\n",
    "        \n",
    "        print(f_S)\n",
    "        \n",
    "        if f_S >= f_SG:\n",
    "               \n",
    "               f_SG = f_S\n",
    "\n",
    "               S_G = S\n",
    "\n",
    "    return S_G"
   ]
  },
  {
   "cell_type": "code",
   "execution_count": 6,
   "metadata": {},
   "outputs": [
    {
     "name": "stdout",
     "output_type": "stream",
     "text": [
      "2.0\n",
      "{2: [3, 4, 5], 3: [2, 4, 7], 4: [2, 3, 5], 5: [2, 4, 6, 9], 6: [5, 8, 9, 10], 7: [3, 8, 10], 8: [6, 7, 9, 10], 9: [5, 6, 8, 10], 10: [6, 7, 8, 9]}\n",
      "1.7777777777777777\n",
      "{3: [4, 7], 4: [3, 5], 5: [4, 6, 9], 6: [5, 8, 9, 10], 7: [3, 8, 10], 8: [6, 7, 9, 10], 9: [5, 6, 8, 10], 10: [6, 7, 8, 9]}\n",
      "1.625\n",
      "{4: [5], 5: [4, 6, 9], 6: [5, 8, 9, 10], 7: [8, 10], 8: [6, 7, 9, 10], 9: [5, 6, 8, 10], 10: [6, 7, 8, 9]}\n",
      "1.5714285714285714\n",
      "{5: [6, 9], 6: [5, 8, 9, 10], 7: [8, 10], 8: [6, 7, 9, 10], 9: [5, 6, 8, 10], 10: [6, 7, 8, 9]}\n",
      "1.6666666666666667\n",
      "{6: [8, 9, 10], 7: [8, 10], 8: [6, 7, 9, 10], 9: [6, 8, 10], 10: [6, 7, 8, 9]}\n",
      "1.6\n",
      "{6: [8, 9, 10], 8: [6, 9, 10], 9: [6, 8, 10], 10: [6, 8, 9]}\n",
      "1.5\n",
      "{8: [9, 10], 9: [8, 10], 10: [8, 9]}\n",
      "1.0\n",
      "{9: [10], 10: [9]}\n",
      "0.5\n",
      "{10: []}\n",
      "0.0\n"
     ]
    },
    {
     "data": {
      "text/plain": [
       "[1, 2, 3, 4, 5, 6, 7, 8, 9, 10]"
      ]
     },
     "execution_count": 6,
     "metadata": {},
     "output_type": "execute_result"
    }
   ],
   "source": [
    "Greedy_Densest_Subgraph(adj_lists)"
   ]
  },
  {
   "cell_type": "markdown",
   "metadata": {},
   "source": [
    "### (3) Show that Cheeger's inequality hold for this graph"
   ]
  },
  {
   "cell_type": "markdown",
   "metadata": {},
   "source": [
    "Given the second smallest eigenvalue $\\lambda_2$ of the graph laplacian, Cheeger's inequality states that the graph conductance $\\phi_G$ is bounded as follows:\n",
    "\n",
    "$$ \\frac{\\lambda_2}{2} \\leq \\phi_G \\leq \\lambda_2 $$\n",
    "\n",
    "where the conductance is defined as the minimum among the conductance of all cuts, where a cut conductance is the cardinality of the cut over its volume as the minimum between the sum of the degrees of the nodes withing one of the two partitions:\n",
    "\n",
    "$$ \\phi_G = \\underset{C1 \\subset V, C2 = V \\setminus C1}{\\mathrm{min}} \\ \\ \\frac{|E(C1,C2)|}{\\min\\{ \\sum_{i \\in C1} d_i, \\sum_{i \\in C2} d_i\\}} $$"
   ]
  },
  {
   "cell_type": "markdown",
   "metadata": {},
   "source": [
    "Since the given graph is quite small, we can compute its conductance explicitely:"
   ]
  },
  {
   "cell_type": "code",
   "execution_count": 7,
   "metadata": {},
   "outputs": [
    {
     "name": "stderr",
     "output_type": "stream",
     "text": [
      "100%|██████████| 5/5 [00:00<00:00, 833.66it/s]\n"
     ]
    }
   ],
   "source": [
    "cuts_conductance = {}\n",
    "\n",
    "for m in tqdm(range(1,6)):\n",
    "\n",
    "    cuts = list(combinations(nodes, m))\n",
    "\n",
    "    for cut in cuts:\n",
    "\n",
    "        C1 = cut\n",
    "\n",
    "        C2 = [node for node in nodes if node not in cut]\n",
    "\n",
    "        E_C1C2 = len([e for e in edges if (e[0] in C1 and e[1] in C2) or (e[1] in C1 and e[0] in C2)])\n",
    "\n",
    "        sum_d1 = sum(map(len, \n",
    "                         dict(\n",
    "                             filter(\n",
    "                                 lambda item: item[0] not in C1, adj_lists.items())).values()))\n",
    "        \n",
    "        sum_d2 = sum(map(len, \n",
    "                         dict(\n",
    "                             filter(\n",
    "                                 lambda item: item[0] not in C2, adj_lists.items())).values()))\n",
    "        \n",
    "        if (sum_d1 - E_C1C2 != 0) and (sum_d2 - E_C1C2 != 0):\n",
    "\n",
    "            cuts_conductance[C1] = E_C1C2 / min((sum_d1 - E_C1C2, sum_d2 - E_C1C2))\n",
    "                "
   ]
  },
  {
   "cell_type": "code",
   "execution_count": 8,
   "metadata": {},
   "outputs": [],
   "source": [
    "phi_G = min(cuts_conductance.values())"
   ]
  },
  {
   "cell_type": "code",
   "execution_count": 9,
   "metadata": {},
   "outputs": [
    {
     "data": {
      "text/plain": [
       "0.25"
      ]
     },
     "execution_count": 9,
     "metadata": {},
     "output_type": "execute_result"
    }
   ],
   "source": [
    "phi_G"
   ]
  },
  {
   "cell_type": "markdown",
   "metadata": {},
   "source": [
    "Now to check if Cheeger's inequality holds we need the second smallest eigenvalue of the normalized laplacian matrix: since our graph is $d$-regular, with $d = 4$ we have that \n",
    "$$ \\mathcal{L} = \\mathbb{I} - \\frac{1}{d}A $$"
   ]
  },
  {
   "cell_type": "code",
   "execution_count": 10,
   "metadata": {},
   "outputs": [],
   "source": [
    "L_ = np.eye(L.shape[0]) - A/4"
   ]
  },
  {
   "cell_type": "code",
   "execution_count": 11,
   "metadata": {},
   "outputs": [],
   "source": [
    "lambdas, U = np.linalg.eig(L_)"
   ]
  },
  {
   "cell_type": "code",
   "execution_count": 12,
   "metadata": {},
   "outputs": [],
   "source": [
    "lambda_2 = np.sort(np.real(lambdas))[1]"
   ]
  },
  {
   "cell_type": "code",
   "execution_count": 13,
   "metadata": {},
   "outputs": [
    {
     "data": {
      "text/plain": [
       "0.2500000000000001"
      ]
     },
     "execution_count": 13,
     "metadata": {},
     "output_type": "execute_result"
    }
   ],
   "source": [
    "lambda_2"
   ]
  },
  {
   "cell_type": "code",
   "execution_count": 14,
   "metadata": {},
   "outputs": [
    {
     "data": {
      "text/plain": [
       "True"
      ]
     },
     "execution_count": 14,
     "metadata": {},
     "output_type": "execute_result"
    }
   ],
   "source": [
    "(lambda_2/2 <= phi_G) & (phi_G <= np.sqrt(2*lambda_2))"
   ]
  },
  {
   "cell_type": "markdown",
   "metadata": {},
   "source": [
    "__________"
   ]
  },
  {
   "cell_type": "markdown",
   "metadata": {},
   "source": []
  }
 ],
 "metadata": {
  "kernelspec": {
   "display_name": "Python 3",
   "language": "python",
   "name": "python3"
  },
  "language_info": {
   "codemirror_mode": {
    "name": "ipython",
    "version": 3
   },
   "file_extension": ".py",
   "mimetype": "text/x-python",
   "name": "python",
   "nbconvert_exporter": "python",
   "pygments_lexer": "ipython3",
   "version": "3.10.7"
  }
 },
 "nbformat": 4,
 "nbformat_minor": 2
}
