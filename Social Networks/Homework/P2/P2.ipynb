{
 "cells": [
  {
   "cell_type": "markdown",
   "metadata": {},
   "source": [
    "# Problem 2"
   ]
  },
  {
   "cell_type": "code",
   "execution_count": 1,
   "metadata": {},
   "outputs": [],
   "source": [
    "import numpy as np\n",
    "import networkx as nx "
   ]
  },
  {
   "cell_type": "markdown",
   "metadata": {},
   "source": [
    "### (1) Find the densest subgraph using the Charikar greedy algorithm"
   ]
  },
  {
   "attachments": {
    "image.png": {
     "image/png": "[encoded data removed]"
    }
   },
   "cell_type": "markdown",
   "metadata": {},
   "source": [
    "![image.png](attachment:image.png)"
   ]
  },
  {
   "cell_type": "code",
   "execution_count": 7,
   "metadata": {},
   "outputs": [],
   "source": [
    "nodes = list(range(1,11))\n",
    "\n",
    "edges = [\n",
    "    (1,2),\n",
    "    (1,3),\n",
    "    (1,4),\n",
    "    (1,7),\n",
    "    (2,3),\n",
    "    (2,4),\n",
    "    (2,5),\n",
    "    (3,4),\n",
    "    (3,7),\n",
    "    (4,5),\n",
    "    (5,6),\n",
    "    (5,9),\n",
    "    (6,8),\n",
    "    (6,9),\n",
    "    (6,10),\n",
    "    (7,8),\n",
    "    (7,10),\n",
    "    (8,9),\n",
    "    (8,10),\n",
    "    (9,10)\n",
    "]"
   ]
  },
  {
   "cell_type": "code",
   "execution_count": 8,
   "metadata": {},
   "outputs": [],
   "source": [
    "# Adjacency matrix\n",
    "\n",
    "A = np.zeros((10,10))\n",
    "\n",
    "for e in edges:\n",
    "    A[e[0] - 1, e[1] - 1] = 1\n",
    "    A[e[1] - 1, e[0] - 1] = 1\n",
    "\n",
    "# Degree matrix\n",
    "\n",
    "D = np.sum(A, axis = 0)\n",
    "\n",
    "# Laplacian matrix\n",
    "\n",
    "L = D - A\n",
    "\n",
    "# Adjacency lists\n",
    "\n",
    "adj_lists = {v:[] for v in nodes}\n",
    "\n",
    "for e in edges:\n",
    "    adj_lists[e[0]].append(e[1])\n",
    "    adj_lists[e[1]].append(e[0])"
   ]
  },
  {
   "cell_type": "code",
   "execution_count": 9,
   "metadata": {},
   "outputs": [
    {
     "data": {
      "text/plain": [
       "{1: [2, 3, 4, 7],\n",
       " 2: [1, 3, 4, 5],\n",
       " 3: [1, 2, 4, 7],\n",
       " 4: [1, 2, 3, 5],\n",
       " 5: [2, 4, 6, 9],\n",
       " 6: [5, 8, 9, 10],\n",
       " 7: [1, 3, 8, 10],\n",
       " 8: [6, 7, 9, 10],\n",
       " 9: [5, 6, 8, 10],\n",
       " 10: [6, 7, 8, 9]}"
      ]
     },
     "execution_count": 9,
     "metadata": {},
     "output_type": "execute_result"
    }
   ],
   "source": [
    "adj_lists"
   ]
  },
  {
   "cell_type": "code",
   "execution_count": 10,
   "metadata": {},
   "outputs": [],
   "source": [
    "def Greedy_Densest_Subgraph(\n",
    "        adj_lists:dict\n",
    "        ) -> list:\n",
    "    \n",
    "    S = list(adj_lists.keys())\n",
    "\n",
    "    S_G = list(adj_lists.keys())\n",
    "\n",
    "    f_SG = 0.5*sum(map(lambda x: len(adj_lists[x]), adj_lists))/len(S)\n",
    "    print(f_SG)\n",
    "    \n",
    "    while len(S) > 1:\n",
    "\n",
    "        v = min(adj_lists, key = lambda k: len(adj_lists[k]))\n",
    "\n",
    "        S.remove(v)\n",
    "\n",
    "        adj_lists = {u : [node for node in adj_lists[u] if node != v] for u in list(adj_lists.keys()) if u != v}\n",
    "\n",
    "        print(adj_lists)\n",
    "        \n",
    "        f_S = 0.5*sum(map(lambda x: len(adj_lists[x]), adj_lists))/len(S)\n",
    "        print(f_S)\n",
    "        \n",
    "        if f_S >= f_SG:\n",
    "               \n",
    "               f_SG = f_S\n",
    "\n",
    "               S_G = S\n",
    "\n",
    "    return S_G"
   ]
  },
  {
   "cell_type": "code",
   "execution_count": 11,
   "metadata": {},
   "outputs": [
    {
     "name": "stdout",
     "output_type": "stream",
     "text": [
      "2.0\n",
      "{2: [3, 4, 5], 3: [2, 4, 7], 4: [2, 3, 5], 5: [2, 4, 6, 9], 6: [5, 8, 9, 10], 7: [3, 8, 10], 8: [6, 7, 9, 10], 9: [5, 6, 8, 10], 10: [6, 7, 8, 9]}\n",
      "1.7777777777777777\n",
      "{3: [4, 7], 4: [3, 5], 5: [4, 6, 9], 6: [5, 8, 9, 10], 7: [3, 8, 10], 8: [6, 7, 9, 10], 9: [5, 6, 8, 10], 10: [6, 7, 8, 9]}\n",
      "1.625\n",
      "{4: [5], 5: [4, 6, 9], 6: [5, 8, 9, 10], 7: [8, 10], 8: [6, 7, 9, 10], 9: [5, 6, 8, 10], 10: [6, 7, 8, 9]}\n",
      "1.5714285714285714\n",
      "{5: [6, 9], 6: [5, 8, 9, 10], 7: [8, 10], 8: [6, 7, 9, 10], 9: [5, 6, 8, 10], 10: [6, 7, 8, 9]}\n",
      "1.6666666666666667\n",
      "{6: [8, 9, 10], 7: [8, 10], 8: [6, 7, 9, 10], 9: [6, 8, 10], 10: [6, 7, 8, 9]}\n",
      "1.6\n",
      "{6: [8, 9, 10], 8: [6, 9, 10], 9: [6, 8, 10], 10: [6, 8, 9]}\n",
      "1.5\n",
      "{8: [9, 10], 9: [8, 10], 10: [8, 9]}\n",
      "1.0\n",
      "{9: [10], 10: [9]}\n",
      "0.5\n",
      "{10: []}\n",
      "0.0\n"
     ]
    },
    {
     "data": {
      "text/plain": [
       "[1, 2, 3, 4, 5, 6, 7, 8, 9, 10]"
      ]
     },
     "execution_count": 11,
     "metadata": {},
     "output_type": "execute_result"
    }
   ],
   "source": [
    "Greedy_Densest_Subgraph(adj_lists)"
   ]
  }
 ],
 "metadata": {
  "kernelspec": {
   "display_name": "Python 3",
   "language": "python",
   "name": "python3"
  },
  "language_info": {
   "codemirror_mode": {
    "name": "ipython",
    "version": 3
   },
   "file_extension": ".py",
   "mimetype": "text/x-python",
   "name": "python",
   "nbconvert_exporter": "python",
   "pygments_lexer": "ipython3",
   "version": "3.10.7"
  }
 },
 "nbformat": 4,
 "nbformat_minor": 2
}
