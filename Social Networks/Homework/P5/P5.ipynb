{
 "cells": [
  {
   "cell_type": "markdown",
   "metadata": {},
   "source": [
    "# Problem 5"
   ]
  },
  {
   "cell_type": "markdown",
   "metadata": {},
   "source": [
    "## Modeling backfire in opinion dynamics"
   ]
  },
  {
   "cell_type": "markdown",
   "metadata": {},
   "source": [
    "### Vanilla consensus on an unweighted graph "
   ]
  },
  {
   "cell_type": "code",
   "execution_count": 1,
   "metadata": {},
   "outputs": [],
   "source": [
    "import networkx as nx\n",
    "import numpy as np "
   ]
  },
  {
   "cell_type": "code",
   "execution_count": 40,
   "metadata": {},
   "outputs": [
    {
     "name": "stderr",
     "output_type": "stream",
     "text": [
      "<class 'networkx.utils.decorators.argmap'> compilation 8:4: FutureWarning: laplacian_matrix will return a scipy.sparse array instead of a matrix in Networkx 3.0.\n"
     ]
    }
   ],
   "source": [
    "# Generate a random topology \n",
    "N = 40\n",
    "\n",
    "G = nx.erdos_renyi_graph(N, 1.3*np.log(N)/N, seed=None, directed=False)\n",
    "\n",
    "L = nx.laplacian_matrix(G).toarray()"
   ]
  },
  {
   "cell_type": "code",
   "execution_count": 41,
   "metadata": {},
   "outputs": [
    {
     "data": {
      "text/plain": [
       "True"
      ]
     },
     "execution_count": 41,
     "metadata": {},
     "output_type": "execute_result"
    }
   ],
   "source": [
    "nx.is_connected(G)"
   ]
  },
  {
   "cell_type": "code",
   "execution_count": 14,
   "metadata": {},
   "outputs": [],
   "source": [
    "eps = 1/np.max(np.linalg.eigvals(L))"
   ]
  },
  {
   "cell_type": "code",
   "execution_count": 15,
   "metadata": {},
   "outputs": [],
   "source": [
    "W = np.eye(N) - eps*L"
   ]
  },
  {
   "cell_type": "code",
   "execution_count": 31,
   "metadata": {},
   "outputs": [],
   "source": [
    "x_0 = np.random.normal(0,1,40)"
   ]
  },
  {
   "cell_type": "code",
   "execution_count": 28,
   "metadata": {},
   "outputs": [],
   "source": [
    "for _ in range(1000):\n",
    "    x_0 = W @ x_0"
   ]
  },
  {
   "cell_type": "code",
   "execution_count": 29,
   "metadata": {},
   "outputs": [
    {
     "data": {
      "text/plain": [
       "array([0.04457663, 0.04457663, 0.04457663, 0.04457663, 0.04457663,\n",
       "       0.04457663, 0.04457663, 0.04457663, 0.04457663, 0.04457663,\n",
       "       0.04457663, 0.04457663, 0.04457663, 0.04457663, 0.04457663,\n",
       "       0.04457663, 0.04457663, 0.04457663, 0.04457663, 0.04457663,\n",
       "       0.04457663, 0.04457663, 0.04457663, 0.04457663, 0.04457663,\n",
       "       0.04457663, 0.04457663, 0.04457663, 0.04457663, 0.04457663,\n",
       "       0.04457663, 0.04457663, 0.04457663, 0.04457663, 0.04457663,\n",
       "       0.04457663, 0.04457663, 0.04457663, 0.04457663, 0.04457663])"
      ]
     },
     "execution_count": 29,
     "metadata": {},
     "output_type": "execute_result"
    }
   ],
   "source": [
    "x_0"
   ]
  },
  {
   "cell_type": "markdown",
   "metadata": {},
   "source": [
    "### First idea: dynamically modify the sign of the edge"
   ]
  },
  {
   "cell_type": "code",
   "execution_count": 54,
   "metadata": {},
   "outputs": [
    {
     "name": "stderr",
     "output_type": "stream",
     "text": [
      "C:\\Users\\Leonardo\\AppData\\Local\\Temp\\ipykernel_10224\\2619296832.py:1: FutureWarning: incidence_matrix will return a scipy.sparse array instead of a matrix in Networkx 3.0.\n",
      "  B = nx.incidence_matrix(G, oriented=True).toarray()\n"
     ]
    }
   ],
   "source": [
    "B = nx.incidence_matrix(G, oriented=True).toarray()"
   ]
  },
  {
   "cell_type": "code",
   "execution_count": 64,
   "metadata": {},
   "outputs": [],
   "source": [
    "E = len(G.edges)\n",
    "\n",
    "S = np.eye(E)"
   ]
  },
  {
   "cell_type": "code",
   "execution_count": 68,
   "metadata": {},
   "outputs": [],
   "source": [
    "L = B @ S @ B.T\n",
    "W = np.eye(N) - eps * L"
   ]
  },
  {
   "cell_type": "code",
   "execution_count": 73,
   "metadata": {},
   "outputs": [
    {
     "data": {
      "text/plain": [
       "(0, 3)"
      ]
     },
     "execution_count": 73,
     "metadata": {},
     "output_type": "execute_result"
    }
   ],
   "source": [
    "list(G.edges)[0]"
   ]
  },
  {
   "cell_type": "code",
   "execution_count": 76,
   "metadata": {},
   "outputs": [],
   "source": [
    "x = x_0\n",
    "edges = list(G.edges)\n",
    "for _ in range(100):\n",
    "    x = W @ x\n",
    "\n",
    "    for k in range(len(edges)):\n",
    "        i,j = edges[k]\n",
    "        if np.linalg.norm(x[i] - x[j]) > 0.3:\n",
    "            S[k] = -1\n",
    "            L = B @ S @ B.T\n",
    "            W = np.eye(N) - eps * L"
   ]
  },
  {
   "cell_type": "code",
   "execution_count": 77,
   "metadata": {},
   "outputs": [
    {
     "data": {
      "text/plain": [
       "array([-1.32166370e+173, -1.32166370e+173, -1.65207963e+173,\n",
       "       -9.91247776e+172, -1.65207963e+173, -6.60831851e+172,\n",
       "       -1.32166370e+173, -1.32166370e+173, -2.64332740e+173,\n",
       "       -1.32166370e+173,  7.84883367e-001,  3.30415925e+172,\n",
       "       -5.81463056e-001, -9.91247776e+172, -9.91247776e+172,\n",
       "       -2.31291148e+173, -6.60831851e+172,  3.30415925e+172,\n",
       "       -9.91247776e+172, -9.89569284e+000, -9.91247776e+172,\n",
       "       -3.30415925e+172,  1.32166370e+173,  1.32166370e+173,\n",
       "       -6.60831851e+172,  6.60831851e+172, -4.37324211e-001,\n",
       "        1.32166370e+173,  2.64332740e+173,  1.32166370e+173,\n",
       "        1.32166370e+173, -2.68799221e-002,  6.60831851e+172,\n",
       "        9.91247776e+172,  9.91247776e+172,  3.30415925e+172,\n",
       "        1.32166370e+173,  1.98249555e+173,  2.31291148e+173,\n",
       "        2.97374333e+173])"
      ]
     },
     "execution_count": 77,
     "metadata": {},
     "output_type": "execute_result"
    }
   ],
   "source": [
    "x"
   ]
  },
  {
   "cell_type": "markdown",
   "metadata": {},
   "source": [
    "____________"
   ]
  }
 ],
 "metadata": {
  "kernelspec": {
   "display_name": "Python 3",
   "language": "python",
   "name": "python3"
  },
  "language_info": {
   "codemirror_mode": {
    "name": "ipython",
    "version": 3
   },
   "file_extension": ".py",
   "mimetype": "text/x-python",
   "name": "python",
   "nbconvert_exporter": "python",
   "pygments_lexer": "ipython3",
   "version": "3.10.7"
  }
 },
 "nbformat": 4,
 "nbformat_minor": 2
}
