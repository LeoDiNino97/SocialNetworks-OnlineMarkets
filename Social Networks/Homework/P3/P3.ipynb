{
 "cells": [
  {
   "cell_type": "markdown",
   "metadata": {},
   "source": [
    "# Problem 3"
   ]
  },
  {
   "cell_type": "markdown",
   "metadata": {},
   "source": [
    "### Expected degree and expected average degree of neighborhood"
   ]
  },
  {
   "cell_type": "markdown",
   "metadata": {},
   "source": [
    "Let's consider a deterministic graph $G(V,E)$ and the random variable $X$ being the grade of a random node in $V$. Let's define also the random variable $Y$ as the average degree of the neighborhood of a random node. \n",
    "\n",
    "If we define a uniform sampling scheme over the nodes, we have:\n",
    "\n",
    "$$ \\mathbb{E}[X] = \\frac{1}{|V|} \\sum_{v \\in V} d_v $$\n",
    "$$ \\mathbb{E}[Y] = \\frac{1}{|V|} \\sum_{v \\in V} \\frac{1}{|V(v)|} \\sum_{u \\in V(v)} d_u $$\n",
    "\n",
    "where $V(v)$ is the neighborhood of node $v$, so that clearly it is $|V(v)| = d_v$: \n",
    "\n",
    "$$ \\mathbb{E}[X] = \\frac{1}{|V|} \\sum_{v \\in V} d_v $$\n",
    "$$ \\mathbb{E}[Y] = \\frac{1}{|V|} \\sum_{v \\in V} \\sum_{u \\in V(v)} \\frac{d_u}{d_v} $$"
   ]
  },
  {
   "cell_type": "markdown",
   "metadata": {},
   "source": [
    "It clearly follows that for $d$-regular graph, where $d_w = d$ for each $w \\in V$, $\\mathbb{E}[X] = \\mathbb{E}[Y]$: "
   ]
  },
  {
   "cell_type": "markdown",
   "metadata": {},
   "source": [
    "$$ \\mathbb{E}[X] = \\frac{1}{|V|} \\sum_{v \\in V} d = \\frac{1}{|V|} |V|d = d $$\n",
    "$$ \\mathbb{E}[Y] = \\frac{1}{|V|} \\sum_{v \\in V} \\sum_{u \\in V(v)} \\frac{d}{d} =  \\frac{1}{|V|} \\sum_{v \\in V} \\sum_{u \\in V(v)} 1 = \\frac{1}{|V|} \\sum_{v \\in V} d = \\frac{1}{|V|} |V|d = d $$"
   ]
  },
  {
   "cell_type": "markdown",
   "metadata": {},
   "source": [
    "Now we have to show that instead, without regularity assumption, $\\mathbb{E}[X] \\leq \\mathbb{E}[Y]$."
   ]
  },
  {
   "cell_type": "markdown",
   "metadata": {},
   "source": []
  }
 ],
 "metadata": {
  "language_info": {
   "name": "python"
  }
 },
 "nbformat": 4,
 "nbformat_minor": 2
}
